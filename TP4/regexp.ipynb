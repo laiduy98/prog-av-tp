{
 "cells": [
  {
   "cell_type": "markdown",
   "metadata": {},
   "source": [
    "##### Les expressions régulières ou expressions rationnelles\n",
    "Elles sont aussi souvent désignées par regex ou regexp.\n",
    "L'idée générale esst de capturer via un langage de motif un ensemble de mots ayant une certaine forme, comme par exemple les mots qui finissent en `er` ou ceux qui ne contiennent pas de `x`, ou encore ceux qui ne contiennent qu'un seul `y`, pas de `z`commencent par `t` `e` et ne finissent pas par `q`.\n",
    "\n",
    "> Ces ensembles de mots reconnaissables forment des structures mathématiques particulières (on en dira rien ici), mais il existe un pan entier de travaux mathématico-informatiques sur la question de la structure mathématique des langages formels. Peut-être, en tant que linguiste, avez-vous entendu parler de la «hiérarchie de Chomsky-Schützenberger» qui catégorise les langages formels ? Note : M.-P. Schützenberger était un chercheur français pionnier de l'informatique fondamentale et qui était professeur à Paris 7 (l'ancètre d'une composante de l'Université de Paris). Les langages que l'on peut reconnaitre à l'aide des expressions régulières sont les langages réguliers et qui sont tout en bas de la hiérarchie. Cette hiérarchie donne des informations sur le type de calcul nécessaire afin de reconnaître ces différents langages. Reconnaître signifie ici qu'étant donné un mot on puisse dire s'il appartient au langage donné (attention il s'agit de langages dont le nombre de mots est infini).\n",
    "\n",
    "Chaque langage de programmation (ou presque) propose dans l'une de ses bibliothèque de quoi manipuler des expressions régulières car leur usage est très répandu en informatique : reconnaître si une entrée correspond à l'écriture d'un nombre par exemple. Les langages permettant l'écriture des expressions régulières diffèrent parfois dans la syntaxe, mais jamais dans le fond.\n",
    "\n",
    "Tout d'abord un petit exemple"
   ]
  },
  {
   "cell_type": "code",
   "execution_count": 3,
   "metadata": {},
   "outputs": [
    {
     "name": "stdout",
     "output_type": "stream",
     "text": [
      "None\n",
      "<re.Match object; span=(0, 2), match='ab'>\n",
      "<re.Match object; span=(11, 13), match='ab'>\n"
     ]
    }
   ],
   "source": [
    "import re\n",
    "\n",
    "automate = re.compile(\"ab\");\n",
    "ok = automate.search(\"bonjour\"); print(ok)\n",
    "ok = automate.search(\"ab\"); print(ok)\n",
    "ok = automate.search(\"c'est avec abnégation que blablabla\"); print(ok)"
   ]
  },
  {
   "cell_type": "markdown",
   "metadata": {},
   "source": [
    "La première ligne permet d'importer le module (la bibliothèque) `re` des fonctions de manipulation des expressions régulières.\n",
    "\n",
    "La seconde permet d'obtenir la «machinerie» interne qui permettra de tenter de déterminer plus tard si des mots font partie du langage (on appelle langage un ensemble de mots). Le langage décrit ici est réduit au mot `ab`! C'est un exemple...\n",
    "\n",
    "La troisième ligne permet de déterminer si un mot (`bonjour`) appartient au langage correspondant à la «machinerie» puis affiche le résultat. `None` indique donc que le mot `bonjour` n'appartient pas au langage ne contenant que le mot `ab`.\n",
    "\n",
    "La quatrième ligne permet elle de déterminer si le mot `ab` appartient au langage. L'affichage indique que oui et donne des informations techniques sur la reconnaissance obtenue (ce n'est pas très important ici).\n",
    "\n",
    "La cinquième ligne illustre le fait que la fonction `search` permet non pas de déterminer si le mot donné est exactement un mot du langage, mais si le texte donné contient un mot du langage. En effet, `ab` est bien contenu dans le texte donné en argument.\n",
    "\n",
    "La question est donc maintenant : «puis exprimer des langages plus compliqués ?». Oui!\n",
    "\n",
    "> Note : la «machinerie» interne dont on parle s'apelle un automate fini (*finite automaton*).\n",
    "\n",
    "Soit l'exemple suivant :"
   ]
  },
  {
   "cell_type": "code",
   "execution_count": 4,
   "metadata": {},
   "outputs": [],
   "source": [
    "regexp = \"^a*$\"\n",
    "automate = re.compile(regexp)"
   ]
  },
  {
   "cell_type": "markdown",
   "metadata": {},
   "source": [
    "Le langage capturé ici est l'ensemble des mots ne contenant que des `a`. Pour le décrire on a utilisé les caractères `^`, `*`, `$` qui ont donc un pouvoir spécial. On parle de *wildcards* ou de *jokers*, c'est-à-dire que ces caractères ne représentent pas eux-mêmes mais une fonctionnalité particulière.\n",
    "\n",
    "- le caractère `*` désigne la répétition du motif précédent un nombre quelconque de fois (0 fois, 1 fois, 2 fois, etc). Ainsi `a*` designe le langage contenant le mot vide (noté 𝜀), le mot `a`, le mot `aa`, le mot `aaa`, etc. On a donc obtenu un langage infini (même si sa structure est simple).\n",
    "- le caractère `^` désigne le début du mot à reconnaître.\n",
    "- le caractère `$` désigne la fin du mot à reconnaître.\n",
    "\n",
    "Les deux derniers servent à reconnaître les mots du langage avec exactitude, en effet on veut parfois reconnaître dans un texte l'apparition d'un mot du langage (on verra plus loin).\n",
    "\n",
    "Essayons de reconnaître des mots :"
   ]
  },
  {
   "cell_type": "code",
   "execution_count": 5,
   "metadata": {},
   "outputs": [
    {
     "name": "stdout",
     "output_type": "stream",
     "text": [
      "Le mot 'aaaaa' appartient au langage ^a*$\n",
      "Le mot '' appartient au langage ^a*$\n",
      "Le mot 'aaaaaaaaaaaaaaaaa' appartient au langage ^a*$\n"
     ]
    }
   ],
   "source": [
    "mots = [ \"zorglub\", \"asterix\", \"aaaaa\", \"baaaa\", \"\", \"aaaaaaaaaaaaaaaaa\", \"assez\", \"avancez\", \"plein\" ]\n",
    "for m in mots:\n",
    "    if automate.search(m)!=None:\n",
    "        print(\"Le mot '\"+m+\"' appartient au langage \"+regexp)"
   ]
  },
  {
   "cell_type": "markdown",
   "metadata": {},
   "source": [
    "Un autre caractère *magique*  est la caractère `.` qui permet de désigner un caractère quelconque :"
   ]
  },
  {
   "cell_type": "code",
   "execution_count": 6,
   "metadata": {},
   "outputs": [
    {
     "name": "stdout",
     "output_type": "stream",
     "text": [
      "Le mot 'assez' appartient au langage ^a.*z$\n",
      "Le mot 'avancez' appartient au langage ^a.*z$\n"
     ]
    }
   ],
   "source": [
    "regexp = \"^a.*z$\"\n",
    "automate = re.compile(regexp)\n",
    "for m in mots:\n",
    "    if automate.search(m)!=None:\n",
    "        print(\"Le mot '\"+m+\"' appartient au langage \"+regexp)"
   ]
  },
  {
   "cell_type": "markdown",
   "metadata": {},
   "source": [
    "Il est temps d'introduire une autre écriture Python pour les listes. Il s'agit des listes exprimées en intention (comprehensive lists). En voici un exemple :"
   ]
  },
  {
   "cell_type": "code",
   "execution_count": 7,
   "metadata": {},
   "outputs": [
    {
     "name": "stdout",
     "output_type": "stream",
     "text": [
      "Les mots ['assez', 'avancez'] appartiennent au langage ^a.*z$\n"
     ]
    }
   ],
   "source": [
    "t = [m for m in mots if automate.search(m)]\n",
    "print(\"Les mots %s appartiennent au langage %s\" % (t,regexp))"
   ]
  },
  {
   "cell_type": "markdown",
   "metadata": {},
   "source": [
    "L'idée est de fabriquer la liste des mots reconnus, c'est donc la liste d'origine mais filtrée (si le mot est reconnu on le garde, sinon non). La première ligne est donc assez parlante : `t` est la liste des mots `m` tels que pout tout `m` de la liste des `mots` il vérifie la condition de reconnaissance `automate.search(m)`.\n",
    "\n",
    "Une autre construction d'expression régulière est l'expression d'un choix dans un ensemble de caractères. Par exemple :"
   ]
  },
  {
   "cell_type": "code",
   "execution_count": 8,
   "metadata": {},
   "outputs": [
    {
     "name": "stdout",
     "output_type": "stream",
     "text": [
      "Les textes ['zorglub', 'plein'] contiennent un mot du langage ^[zp]\n"
     ]
    }
   ],
   "source": [
    "regexp = \"^[zp]\"\n",
    "automate = re.compile(regexp)\n",
    "t = [m for m in mots if automate.search(m)]\n",
    "print(\"Les textes %s contiennent un mot du langage %s\" % (t,regexp))"
   ]
  },
  {
   "cell_type": "markdown",
   "metadata": {},
   "source": [
    "Tout d'abord `[zp]` qui désigne un caractère parmi `z` ou `p`.\n",
    "\n",
    "Ensuite, vous l'avez peut-être remarqué nous avons supprimé `$` et changé la formulation de l'affichage du résultat. En effet, cette fois en enlevant `$` nous n'imposons plus que la reconnaissance se termine exactement à la fin du texte, mais simplement quelle se termine. Ainsi notre regexp désigne l'ensemble des textes qui commencent par `z` ou `p`.\n",
    "\n",
    "Le Joker `^` a aussi un autre sens, car placé juste derrière `[` il exprime que la liste des caractères est définie par négation, ainsi `[^zp]` signifie ni `z`, ni `p` :"
   ]
  },
  {
   "cell_type": "code",
   "execution_count": 9,
   "metadata": {},
   "outputs": [
    {
     "name": "stdout",
     "output_type": "stream",
     "text": [
      "Les textes ['asterix', 'aaaaa', 'baaaa', 'aaaaaaaaaaaaaaaaa', 'assez', 'avancez'] contiennent un mot du langage ^[^zp]\n"
     ]
    }
   ],
   "source": [
    "regexp = \"^[^zp]\"\n",
    "automate = re.compile(regexp)\n",
    "t = [m for m in mots if automate.search(m)]\n",
    "print(\"Les textes %s contiennent un mot du langage %s\" % (t,regexp))"
   ]
  },
  {
   "cell_type": "markdown",
   "metadata": {},
   "source": [
    "Il existe de nombreuses autres constructions, mais vous les découvrirez en lisant la documentation des expressions régulières en Python (obtenir l'ensemble des mots reconnus dans un texte, les positions où ils sont reconnus, la reconnaissance gloutonne, etc). Pour l'instant cela suffit déjà à expérimenter de nombreuses choses.\n",
    "\n",
    "> ### Exercice\n",
    ">\n",
    "> - Prendre une liste de mots français (que vous pouvez récupérer [ici](http://www.pallier.org/extra/liste.de.mots.francais.frgut.txt) et en extraire l'ensemble des mots finissant en `er` (donc potentiellement des verbes du premier groupe).\n",
    "> - Sauriez-vous modifier tous ces mots, en considérant qu'ils sont tous des verbes du premier groupe même si ce n'est pas le cas, de sorte à obtenir leur conjugaison à la première personne du pluriel du subjonctif ? \n",
    "> - Sauriez-vous prendre ces mots comme des verbes et les conjuquer à tous les temps et toutes les personnes ?\n",
    ">\n",
    "> **Pour toutes ces questions, oubliez les cas particuliers! Il s'agit d'un exercice**, mais si vous voulez vous pouvez tentez votre chance en considérant les cas des verbes en `yer`, `eyer` et autres joyeuses exceptions... On voit bien ici la différence entre les langages formels qui ont une régularité stricte et les langues naturelles qui sont pleines d'exceptions et étrangetés difficiles à capter par calcul."
   ]
  },
  {
   "cell_type": "markdown",
   "metadata": {},
   "source": [
    "L'objet renvoyé par un requête est du type `re.Match`. Il contient différentes propiétés et méthodes comme `start()` et `end()` qui donnent les positions de la correspondance s'il elle existe :"
   ]
  },
  {
   "cell_type": "code",
   "execution_count": 10,
   "metadata": {},
   "outputs": [
    {
     "name": "stdout",
     "output_type": "stream",
     "text": [
      "13\n",
      "15\n",
      "ab\n"
     ]
    }
   ],
   "source": [
    "automate = re.compile(\"ab\")\n",
    "s = \"Il faut de l'abnégation\"\n",
    "ok = automate.search(s)\n",
    "print(ok.start())\n",
    "print(ok.end())\n",
    "print(s[ok.start():ok.end()])"
   ]
  },
  {
   "cell_type": "markdown",
   "metadata": {},
   "source": [
    "On peut rechercher des expressions et capturer des sous-contenus (groupe) de celles-ci. Par exemple :"
   ]
  },
  {
   "cell_type": "code",
   "execution_count": 40,
   "metadata": {},
   "outputs": [
    {
     "name": "stdout",
     "output_type": "stream",
     "text": [
      "anes, des abricots\n",
      "anes\n",
      ", des \n",
      "abricots\n"
     ]
    }
   ],
   "source": [
    "automate = re.compile(\"(a\\w+)(.*?)(a\\w+)\")\n",
    "s = \"Il y a des anes, des abricots, des andouilles et des ananas.\"\n",
    "ok = automate.search(s)\n",
    "print(ok.group(0))\n",
    "print(ok.group(1))\n",
    "print(ok.group(2))\n",
    "print(ok.group(3))"
   ]
  },
  {
   "cell_type": "markdown",
   "metadata": {},
   "source": [
    "Le premier groupe (0) contient l'intégralité de ce qui a été reconnu. Ensuite chaque groupe (numéroté itérativement de gauche à droite) peut-être récupéré\" via son indice."
   ]
  },
  {
   "cell_type": "markdown",
   "metadata": {},
   "source": [
    "Les groupes peuvent être nommés :"
   ]
  },
  {
   "cell_type": "code",
   "execution_count": 30,
   "metadata": {},
   "outputs": [
    {
     "name": "stdout",
     "output_type": "stream",
     "text": [
      "anes, des abricots\n",
      "abricots\n",
      "abricots\n"
     ]
    }
   ],
   "source": [
    "automate = re.compile(\"(?P<un>a\\w+).*?(?P<deux>a\\w+)\")\n",
    "s = \"Il y a des anes, des abricots, des andouilles et des ananas.\"\n",
    "ok = automate.search(s)\n",
    "print(ok.group(0))\n",
    "print(ok.group(\"deux\"))\n",
    "print(ok.group(2))"
   ]
  },
  {
   "cell_type": "markdown",
   "metadata": {},
   "source": [
    "Si l'on souhaite itérer la recherche pour capturer ce qui reste si cela est possible, il faut utiliser :"
   ]
  },
  {
   "cell_type": "code",
   "execution_count": 45,
   "metadata": {},
   "outputs": [
    {
     "name": "stdout",
     "output_type": "stream",
     "text": [
      "anes, des abricots, des andouilles et des ananas: 11-59\n",
      "('anes', 'as')\n",
      "(11, 15)\n",
      "(57, 59)\n"
     ]
    }
   ],
   "source": [
    "automate = re.compile(\"(?P<un>a\\w+).*?(?P<deux>a\\w+)\")\n",
    "s = \"Il y a des anes, des abricots, des andouilles et des ananas.\"\n",
    "ok = automate.finditer(s)\n",
    "for m in ok:\n",
    "    print(f\"{m.group(0)}: {m.start()}-{m.end()}\")\n",
    "    print(m.group(\"un\",\"deux\"))\n",
    "    print(m.span(\"un\"))\n",
    "    print(m.span(\"deux\"))"
   ]
  },
  {
   "cell_type": "code",
   "execution_count": null,
   "metadata": {},
   "outputs": [],
   "source": []
  }
 ],
 "metadata": {
  "kernelspec": {
   "display_name": "Python 3 (ipykernel)",
   "language": "python",
   "name": "python3"
  },
  "language_info": {
   "codemirror_mode": {
    "name": "ipython",
    "version": 3
   },
   "file_extension": ".py",
   "mimetype": "text/x-python",
   "name": "python",
   "nbconvert_exporter": "python",
   "pygments_lexer": "ipython3",
   "version": "3.9.7"
  }
 },
 "nbformat": 4,
 "nbformat_minor": 2
}
